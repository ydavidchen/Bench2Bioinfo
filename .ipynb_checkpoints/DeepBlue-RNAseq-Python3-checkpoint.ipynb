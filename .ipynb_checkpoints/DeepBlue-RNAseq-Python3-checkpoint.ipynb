{
 "cells": [
  {
   "cell_type": "code",
   "execution_count": 6,
   "metadata": {
    "collapsed": true
   },
   "outputs": [],
   "source": [
    "################################################################################\n",
    "## Query Blueprint RNAseq data\n",
    "## Adapted from DeepBlue API Examples\n",
    "\n",
    "## Notes: \n",
    "## Python 2.6 or higher is required; adapted for Python3\n",
    "################################################################################\n",
    "\n",
    "import xmlrpc\n",
    "import xmlrpc.client\n",
    "import time\n",
    "import os"
   ]
  },
  {
   "cell_type": "code",
   "execution_count": 7,
   "metadata": {
    "collapsed": false
   },
   "outputs": [],
   "source": [
    "## Set up the client:\n",
    "url = \"http://deepblue.mpi-inf.mpg.de/xmlrpc\"\n",
    "#server = xmlrpclib.Server(url, allow_none=True)\n",
    "server = xmlrpc.client.ServerProxy(url, encoding='UTF-8', allow_none=True) #adapted for python3\n",
    "\n",
    "## Use an anonymous key\n",
    "## Alternatively, you can use your own key\n",
    "user_key = \"anonymous_key\""
   ]
  },
  {
   "cell_type": "code",
   "execution_count": 8,
   "metadata": {
    "collapsed": false
   },
   "outputs": [],
   "source": [
    "## Obtain genes regions\n",
    "gene_names = ['CCR1', 'CD164', 'CD1D', 'CD2', 'CD34', 'CD3G', 'CD44']\n",
    "\n",
    "## Select regions of selected genes\n",
    "(status, q_genes) = server.select_genes(gene_names, \"gencode v23\", \n",
    "                                            None, None, None, user_key)\n",
    "\n",
    "## Filter regions that are protein-coding:\n",
    "(status, q_genes_regions) = server.filter_regions(q_genes,\n",
    "                                                  \"@GENE_ATTRIBUTE(gene_type)\",\n",
    "                                                  \"==\", \"protein_coding\",\n",
    "                                                  \"string\", user_key)\n",
    "\n",
    "## Select all T cell-related biosources: \n",
    "biosources = ['Regulatory T cell']\n",
    "liver_biosource_names = []\n",
    "for biosource in biosources:\n",
    "    (status, biosources) = server.get_biosource_related(biosource, user_key)\n",
    "    liver_biosource_names += server.extract_names(biosources)[1]\n",
    "\n",
    "## Obtain mRNA experiments names\n",
    "(status, experiments) = server.list_experiments(\"GRCh38\", \"signal\", \"mRNA\",\n",
    "                                                liver_biosource_names, \"\", \"\",\n",
    "                                                \"BLUEPRINT Epigenome\",\n",
    "                                                user_key)\n",
    "hsc_experiment_names = server.extract_names(experiments)[1]"
   ]
  },
  {
   "cell_type": "code",
   "execution_count": 3,
   "metadata": {
    "collapsed": false
   },
   "outputs": [
    {
     "ename": "NameError",
     "evalue": "name 'hsc_experiment_names' is not defined",
     "output_type": "error",
     "traceback": [
      "\u001b[0;31m---------------------------------------------------------------------------\u001b[0m",
      "\u001b[0;31mNameError\u001b[0m                                 Traceback (most recent call last)",
      "\u001b[0;32m<ipython-input-3-c4760adb6aeb>\u001b[0m in \u001b[0;36m<module>\u001b[0;34m()\u001b[0m\n\u001b[1;32m      4\u001b[0m \u001b[0;34m\u001b[0m\u001b[0m\n\u001b[1;32m      5\u001b[0m \u001b[0;31m# Perform the aggregation\u001b[0m\u001b[0;34m\u001b[0m\u001b[0;34m\u001b[0m\u001b[0m\n\u001b[0;32m----> 6\u001b[0;31m \u001b[0;32mfor\u001b[0m \u001b[0mhsc_experiment_name\u001b[0m \u001b[0;32min\u001b[0m \u001b[0mhsc_experiment_names\u001b[0m\u001b[0;34m:\u001b[0m\u001b[0;34m\u001b[0m\u001b[0m\n\u001b[0m\u001b[1;32m      7\u001b[0m     (status, q_exp) = server.select_experiments(hsc_experiment_name, \"\", None,\n\u001b[1;32m      8\u001b[0m                                                 None, user_key)\n",
      "\u001b[0;31mNameError\u001b[0m: name 'hsc_experiment_names' is not defined"
     ]
    }
   ],
   "source": [
    "requests = []\n",
    "request_id_experiment = {}\n",
    "\n",
    "## Perform aggregation\n",
    "for hsc_experiment_name in hsc_experiment_names:\n",
    "    (status, q_exp) = server.select_experiments(hsc_experiment_name, \"\", None,\n",
    "                                                None, user_key)\n",
    "\n",
    "    (status, q_agg) = server.aggregate(q_exp, q_genes_regions, \"VALUE\", user_key)\n",
    "\n",
    "    (status, q_filtered) = server.filter_regions(q_agg, \"@AGG.MEAN\", \">\", \"0\",\n",
    "                                                 \"number\", user_key)\n",
    "\n",
    "    print(\"Summarization and filtering of \" + hsc_experiment_name)\n",
    "\n",
    "    status, req = server.get_regions(q_filtered,\n",
    "                    \"CHROMOSOME,START,END,@AGG.MEAN,@AGG.MAX,@AGG.MIN\", user_key)\n",
    "    print(hsc_experiment_name, status, req)\n",
    "    request_id_experiment[req] = hsc_experiment_name\n",
    "    requests.append(req)"
   ]
  },
  {
   "cell_type": "code",
   "execution_count": null,
   "metadata": {
    "collapsed": true
   },
   "outputs": [],
   "source": [
    "## Get status\n",
    "requests_data = {}\n",
    "print(requests)\n",
    "print(request_id_experiment)\n",
    "\n",
    "if not os.path.isdir(\"data/\"):\n",
    "    os.mkdir(\"data/\")\n",
    "\n",
    "while len(requests) > 0:\n",
    "    print \"It is still missing \" + str(len(requests)) + \" requests\"\n",
    "    for req in requests[:]:\n",
    "        (s, ss) = server.info(req, user_key)\n",
    "        print ss\n",
    "        if ss[0][\"state\"] == \"done\":\n",
    "            print ss[0]\n",
    "            print \"getting data from \" + ss[0][\"_id\"]\n",
    "            (s, data) = server.get_request_data(req, user_key)\n",
    "            with open(\"data/\" + request_id_experiment[req] + \".bed\", 'wb') as f:\n",
    "                f.write(data)\n",
    "            requests.remove(req)\n",
    "        if ss[0][\"state\"] == \"failed\":\n",
    "            print ss\n",
    "            requests.remove(req)\n",
    "time.sleep(1.0)"
   ]
  }
 ],
 "metadata": {
  "anaconda-cloud": {},
  "kernelspec": {
   "display_name": "Python [conda env:py35]",
   "language": "python",
   "name": "conda-env-py35-py"
  },
  "language_info": {
   "codemirror_mode": {
    "name": "ipython",
    "version": 3
   },
   "file_extension": ".py",
   "mimetype": "text/x-python",
   "name": "python",
   "nbconvert_exporter": "python",
   "pygments_lexer": "ipython3",
   "version": "3.5.2"
  }
 },
 "nbformat": 4,
 "nbformat_minor": 2
}
